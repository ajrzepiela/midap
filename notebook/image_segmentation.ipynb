{
  "cells": [
    {
      "cell_type": "markdown",
      "id": "5bca36ec",
      "metadata": {
        "id": "5bca36ec"
      },
      "source": [
        "# Testing Neural Network-based image segmentation models on your data\n",
        "---\n",
        "This notebook gives you access to several pre-installed segmentation models that can be easily run and compared on your image data-set. Please follow the instructions below to upload your data and test the models.\n",
        "\n",
        "The notebook is licensed under CC BY-NC 4.0\n",
        "Copyright (C) 2024 Franziska Oschmann, Scientific IT Services of ETH Zurich.\n",
        "\n",
        "Contributing Authors:  Franziska Oschmann  together with  Andrzej Rzepiela (ScopeM ETH) and Szymon Stoma (ScopeM ETH)."
      ]
    },
    {
      "cell_type": "markdown",
      "source": [
        "# 1. Install dependencies\n",
        "- The notebook runs on the **T4 accelator**. Select it in 'Runtime' by clicking 'Change runtime type'\n",
        "- To run a code `cell` (separate piece of code), click on it and press the `play` button on the top left of it.\n",
        "- It will take about 1 min to install dependencies in the cell below\n",
        "- Ignore the restart warning message\n",
        "\n"
      ],
      "metadata": {
        "id": "y8vz2f4l-s4S"
      },
      "id": "y8vz2f4l-s4S"
    },
    {
      "cell_type": "code",
      "source": [
        "%%capture\n",
        "!pip install --no-deps git+https://github.com/ajrzepiela/midap.git@dev\n",
        "!pip install --no-deps git+https://www.github.com/mouseland/cellpose.git\n",
        "!pip install -q --no-deps numpy==1.26.4 \"scipy>=1.11.4,<1.12\" scikit-image>=0.22 \\\n",
        "  opencv-python>=4.8.1 pandas>=2.0.2 stardist>=0.9.1 omnipose>=1.0.6 tqdm gitpython coverage mpl_interactions \\\n",
        "  ipympl csbdeep fastremap edt igraph texttable mgen pbr ncolor mahotas torchvf peakdetect fill_voids roifile segment_anything\n",
        "try:\n",
        "  from gem.utils import graph_util, plot_util\n",
        "except (ImportError, KeyError, ModuleNotFoundError):\n",
        "  exit()"
      ],
      "metadata": {
        "id": "cYGY6lA4-jsP",
        "collapsed": true
      },
      "id": "cYGY6lA4-jsP",
      "execution_count": null,
      "outputs": []
    },
    {
      "cell_type": "markdown",
      "source": [
        "If you want to use the notebook more often, follow the instructions [here](https://medium.com/@ismailelalaoui/how-to-install-external-libraries-permanently-on-google-colab-eaa4509fb43f) to install dependencies permanently on your google drive"
      ],
      "metadata": {
        "id": "PjkjQ9ae0UzL"
      },
      "id": "PjkjQ9ae0UzL"
    },
    {
      "cell_type": "markdown",
      "source": [
        "Now, **download the custom segmentation models**. Standard models are loaded from libraries."
      ],
      "metadata": {
        "id": "rW6cY-wxAKS5"
      },
      "id": "rW6cY-wxAKS5"
    },
    {
      "cell_type": "code",
      "execution_count": null,
      "id": "1e1be258",
      "metadata": {
        "id": "1e1be258"
      },
      "outputs": [],
      "source": [
        "!midap_download --force"
      ]
    },
    {
      "cell_type": "markdown",
      "id": "c03adf01",
      "metadata": {
        "id": "c03adf01"
      },
      "source": [
        "## 2. Upload of images"
      ]
    },
    {
      "cell_type": "markdown",
      "id": "562be19e",
      "metadata": {
        "id": "562be19e"
      },
      "source": [
        "\n",
        "\n",
        "- Run the `cell` below and later select the `data/raw_im/` data folder (don't miss the 'select' button that appears below the cell), and then run the second cell to select the files you want to analyse.\n",
        "\n",
        "- This will take about 30 sec\n",
        "\n",
        "- In `/content/data/raw_im/` there are several example images that can be used to test the notebook. If you want other images, upload them to the folder `/content/data/raw_im/`. To do this, in the panel on the left click on the folder icon and then drag and drop your image files into directory `/content/data/raw_im/`.\n",
        "\n",
        "- Uploaded images should have the same size (the example set is 256x256, you can also remove it)\n"
      ]
    },
    {
      "cell_type": "code",
      "execution_count": null,
      "id": "eee83467",
      "metadata": {
        "id": "eee83467"
      },
      "outputs": [],
      "source": [
        "import os; os.environ[\"MATPLOTLIB_BACKEND\"] = \"module://ipympl.backend_nbagg\"\n",
        "import matplotlib\n",
        "matplotlib.use('module://ipympl.backend_nbagg')\n",
        "import matplotlib.pyplot as plt\n",
        "\n",
        "from google.colab import output\n",
        "output.enable_custom_widget_manager()\n",
        "\n",
        "%matplotlib ipympl\n",
        "from midap.midap_jupyter.segmentation_jupyter import SegmentationJupyter\n",
        "\n",
        "path = '/content/data/'\n",
        "sj = SegmentationJupyter(path = path)\n",
        "\n",
        "sj.get_input_dir()\n",
        "display(sj.fc_file)"
      ]
    },
    {
      "cell_type": "markdown",
      "id": "adb702be",
      "metadata": {
        "id": "adb702be"
      },
      "source": [
        "Please make sure that the folder has been selected. Then run the next cell to select the files (mark them with the mouse)."
      ]
    },
    {
      "cell_type": "code",
      "execution_count": null,
      "id": "fb6665b7",
      "metadata": {
        "id": "fb6665b7"
      },
      "outputs": [],
      "source": [
        "sj.get_input_files(sj.fc_file.selected)"
      ]
    },
    {
      "cell_type": "markdown",
      "id": "4a05db9d",
      "metadata": {
        "id": "4a05db9d"
      },
      "source": [
        "## 3. Choose image axes"
      ]
    },
    {
      "cell_type": "markdown",
      "id": "ec9d8658",
      "metadata": {
        "id": "ec9d8658"
      },
      "source": [
        "This is where we define the labels for the image axes. We need to specify which axes contain the number of images and the number of channels in the uploaded image stack. Based on this information, the image stack will be transformed into the following shape (num_images, width, height, num_channels). Please run the two cells below and select the correct options."
      ]
    },
    {
      "cell_type": "code",
      "execution_count": null,
      "id": "4dd9f085",
      "metadata": {
        "id": "4dd9f085"
      },
      "outputs": [],
      "source": [
        "sj.load_input_image()"
      ]
    },
    {
      "cell_type": "code",
      "execution_count": null,
      "id": "4d8b2546",
      "metadata": {
        "id": "4d8b2546"
      },
      "outputs": [],
      "source": [
        "sj.spec_img_dims()\n",
        "sj.align_img_dims()"
      ]
    },
    {
      "cell_type": "markdown",
      "id": "4a4e395a",
      "metadata": {
        "id": "4a4e395a"
      },
      "source": [
        "## 2. Select channel"
      ]
    },
    {
      "cell_type": "markdown",
      "id": "2ec45004",
      "metadata": {
        "id": "2ec45004"
      },
      "source": [
        "Select the channel which will be used for the further analysis. If images in your set contain only one channel, keep the channel '0'. Please run both cells below."
      ]
    },
    {
      "cell_type": "code",
      "execution_count": null,
      "id": "5cda9445",
      "metadata": {
        "id": "5cda9445"
      },
      "outputs": [],
      "source": [
        "%matplotlib ipympl\n",
        "sj.select_channel()\n",
        "display(sj.output_sel_ch)"
      ]
    },
    {
      "cell_type": "code",
      "execution_count": null,
      "id": "9e10c78c",
      "metadata": {
        "id": "9e10c78c"
      },
      "outputs": [],
      "source": [
        "sj.set_channel()"
      ]
    },
    {
      "cell_type": "markdown",
      "id": "7634b263",
      "metadata": {
        "id": "7634b263"
      },
      "source": [
        "## 3. Define ROI"
      ]
    },
    {
      "cell_type": "markdown",
      "id": "dcb5da8b",
      "metadata": {
        "id": "dcb5da8b"
      },
      "source": [
        "Define the region of interest (the same for all the images) by zooming (zoom to rectangle tool) into the part of the image you want to segment. Run all the cells below."
      ]
    },
    {
      "cell_type": "code",
      "execution_count": null,
      "id": "1150044e",
      "metadata": {
        "id": "1150044e"
      },
      "outputs": [],
      "source": [
        "%matplotlib ipympl\n",
        "sj.show_example_image(sj.imgs_sel_ch[0,:,:,0])"
      ]
    },
    {
      "cell_type": "code",
      "execution_count": null,
      "id": "3783aa87",
      "metadata": {
        "id": "3783aa87"
      },
      "outputs": [],
      "source": [
        "sj.get_corners_cutout()\n",
        "sj.make_cutouts()\n",
        "\n",
        "%matplotlib ipympl\n",
        "sj.show_all_cutouts()\n",
        "sj.output_all_cuts"
      ]
    },
    {
      "cell_type": "code",
      "execution_count": null,
      "id": "9c5fa4e9",
      "metadata": {
        "id": "9c5fa4e9"
      },
      "outputs": [],
      "source": [
        "sj.save_cutouts()"
      ]
    },
    {
      "cell_type": "markdown",
      "id": "a69077ac",
      "metadata": {
        "id": "a69077ac"
      },
      "source": [
        "## 4. Model selection"
      ]
    },
    {
      "cell_type": "markdown",
      "id": "060941cf",
      "metadata": {
        "id": "060941cf"
      },
      "source": [
        "You can choose between different models trained on different species, markers and neural network types. Select the models by running the cell below and clicking through the options (the selected models will appear in the list below the cell)."
      ]
    },
    {
      "cell_type": "code",
      "execution_count": null,
      "id": "cebde57e",
      "metadata": {
        "id": "cebde57e"
      },
      "outputs": [],
      "source": [
        "sj.get_segmentation_models()\n",
        "sj.display_segmentation_models()\n",
        "#sj.outp_interact_table"
      ]
    },
    {
      "cell_type": "markdown",
      "id": "2565a489",
      "metadata": {
        "id": "2565a489"
      },
      "source": [
        "- By running the following cell, segmentations with all selected models are generated and displayed for comparison.\n",
        "\n",
        "- This will take some time depending on how many models and images you have"
      ]
    },
    {
      "cell_type": "code",
      "execution_count": null,
      "id": "d551697d",
      "metadata": {
        "id": "d551697d"
      },
      "outputs": [],
      "source": [
        "# run all models\n",
        "sj.select_segmentation_models()\n",
        "sj.run_all_chosen_models()"
      ]
    },
    {
      "cell_type": "code",
      "source": [
        "sj.compare_segmentations()\n",
        "sj.output_seg_comp"
      ],
      "metadata": {
        "id": "S9bkCK2ddqkq"
      },
      "id": "S9bkCK2ddqkq",
      "execution_count": null,
      "outputs": []
    },
    {
      "cell_type": "markdown",
      "id": "baa55a94",
      "metadata": {
        "id": "baa55a94"
      },
      "source": [
        "Choose the name of the model weights giving the best segmentation result:"
      ]
    },
    {
      "cell_type": "code",
      "source": [
        "sj.display_buttons_weights()\n",
        "display(sj.out_weights)"
      ],
      "metadata": {
        "id": "8i_jbvViLGg7"
      },
      "id": "8i_jbvViLGg7",
      "execution_count": null,
      "outputs": []
    },
    {
      "cell_type": "markdown",
      "id": "7bf2bdbb",
      "metadata": {
        "id": "7bf2bdbb"
      },
      "source": [
        "## 5. Save segmentations"
      ]
    },
    {
      "cell_type": "markdown",
      "id": "80c665fd",
      "metadata": {
        "id": "80c665fd"
      },
      "source": [
        "Based on the chosen model and model weights, the whole image stack will be segmented. In case you would like to upload an additional file for the segmentation, please do that below."
      ]
    },
    {
      "cell_type": "code",
      "execution_count": null,
      "id": "9e881e4a",
      "metadata": {
        "id": "9e881e4a"
      },
      "outputs": [],
      "source": [
        "sj.load_add_files()\n",
        "sj.out_add_file"
      ]
    },
    {
      "cell_type": "code",
      "execution_count": null,
      "id": "ad05cdee",
      "metadata": {
        "id": "ad05cdee"
      },
      "outputs": [],
      "source": [
        "sj.process_images()"
      ]
    },
    {
      "cell_type": "markdown",
      "id": "ac81b7d6",
      "metadata": {
        "id": "ac81b7d6"
      },
      "source": [
        "You find the segmented images under `/content/data/seg_im/`."
      ]
    }
  ],
  "metadata": {
    "kernelspec": {
      "display_name": "Python 3",
      "name": "python3"
    },
    "language_info": {
      "codemirror_mode": {
        "name": "ipython",
        "version": 3
      },
      "file_extension": ".py",
      "mimetype": "text/x-python",
      "name": "python",
      "nbconvert_exporter": "python",
      "pygments_lexer": "ipython3",
      "version": "3.7.2"
    },
    "nav_menu": {},
    "toc": {
      "navigate_menu": true,
      "number_sections": true,
      "sideBar": true,
      "threshold": 6,
      "toc_cell": false,
      "toc_section_display": "block",
      "toc_window_display": false
    },
    "colab": {
      "provenance": [],
      "gpuType": "L4"
    },
    "accelerator": "GPU"
  },
  "nbformat": 4,
  "nbformat_minor": 5
}